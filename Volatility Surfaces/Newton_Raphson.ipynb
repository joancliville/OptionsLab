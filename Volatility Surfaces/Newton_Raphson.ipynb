{
 "cells": [
  {
   "cell_type": "code",
   "execution_count": null,
   "metadata": {
    "collapsed": true
   },
   "outputs": [],
   "source": []
  },
  {
   "cell_type": "code",
   "execution_count": null,
   "outputs": [],
   "source": [
    "import numpy as np\n",
    "from scipy.stats import norm\n",
    "\n",
    "# Define the Black-Scholes formula for European call option\n",
    "def black_scholes_call(S, K, T, r, sigma):\n",
    "    d1 = (np.log(S / K) + (r + 0.5 * sigma ** 2) * T) / (sigma * np.sqrt(T))\n",
    "    d2 = d1 - sigma * np.sqrt(T)\n",
    "    call_price = S * norm.cdf(d1) - K * np.exp(-r * T) * norm.cdf(d2)\n",
    "    return call_price\n",
    "\n",
    "# Define the Vega of the option (sensitivity of option price to volatility)\n",
    "def vega(S, K, T, r, sigma):\n",
    "    d1 = (np.log(S / K) + (r + 0.5 * sigma ** 2) * T) / (sigma * np.sqrt(T))\n",
    "    return S * norm.pdf(d1) * np.sqrt(T)\n",
    "\n",
    "# Implement Newton-Raphson method to find implied volatility\n",
    "def implied_volatility_call(C, S, K, T, r, tol=1e-8, max_iterations=100):\n",
    "    sigma = 0.2  # Initial guess for volatility\n",
    "    for i in range(max_iterations):\n",
    "        price = black_scholes_call(S, K, T, r, sigma)\n",
    "        v = vega(S, K, T, r, sigma)\n",
    "        price_diff = C - price  # Difference between market price and Black-Scholes price\n",
    "\n",
    "        if abs(price_diff) < tol:\n",
    "            return sigma  # If the difference is within the tolerance, return sigma\n",
    "\n",
    "        sigma = sigma + price_diff / v  # Update sigma using the Newton-Raphson step\n",
    "\n",
    "    return sigma  # Return the found volatility or the last guess if max_iterations is reached\n",
    "\n",
    "# Example usage:\n",
    "S = 100  # Current stock price\n",
    "K = 100  # Strike price\n",
    "T = 1    # Time to maturity in years\n",
    "r = 0.05 # Risk-free interest rate\n",
    "C = 10   # Market price of the call option\n",
    "\n",
    "implied_vol = implied_volatility_call(C, S, K, T, r)\n",
    "print(f\"The implied volatility is: {implied_vol}\")\n"
   ],
   "metadata": {
    "collapsed": false,
    "pycharm": {
     "name": "#%%\n"
    }
   }
  }
 ],
 "metadata": {
  "kernelspec": {
   "display_name": "Python 3",
   "language": "python",
   "name": "python3"
  },
  "language_info": {
   "codemirror_mode": {
    "name": "ipython",
    "version": 2
   },
   "file_extension": ".py",
   "mimetype": "text/x-python",
   "name": "python",
   "nbconvert_exporter": "python",
   "pygments_lexer": "ipython2",
   "version": "2.7.6"
  }
 },
 "nbformat": 4,
 "nbformat_minor": 0
}