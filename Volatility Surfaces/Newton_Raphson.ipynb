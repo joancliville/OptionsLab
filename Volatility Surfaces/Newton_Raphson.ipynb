import numpy as np
from scipy.stats import norm

# Define Vega of the option 
def vega(S, K, T, r, sigma):
    d1 = (np.log(S / K) + (r + 0.5 * sigma ** 2) * T) / (sigma * np.sqrt(T))
    return S * norm.pdf(d1) * np.sqrt(T)

# Black-Scholes formula for European call option
def black_scholes_call(S, K, T, r, sigma):
    d1 = (np.log(S / K) + (r + 0.5 * sigma ** 2) * T) / (sigma * np.sqrt(T))
    d2 = d1 - sigma * np.sqrt(T)
    call_price = S * norm.cdf(d1) - K * np.exp(-r * T) * norm.cdf(d2)
    return call_price

# Newton-Raphson method to find implied volatility
def implied_volatility_call(C, S, K, T, r, tol=1e-8, max_iterations=100):
    sigma = 0.2  # Initial guess for volatility
    for i in range(max_iterations):
        price = black_scholes_call(S, K, T, r, sigma)
        v = vega(S, K, T, r, sigma)
        price_diff = C - price  

        if abs(price_diff) < tol:
            return sigma  

        sigma = sigma + price_diff / v  

    return sigma  

# Example usage:
S = 100  # Current stock price
K = 100  # Strike price
T = 1    # Time to maturity in years
r = 0.05 # Risk-free interest rate
C = 10   # Market price of the call option

implied_vol = implied_volatility_call(C, S, K, T, r)
print(f"The implied volatility is: {implied_vol}")
